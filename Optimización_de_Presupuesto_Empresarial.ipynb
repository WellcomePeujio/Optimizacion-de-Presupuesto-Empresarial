{
  "nbformat": 4,
  "nbformat_minor": 0,
  "metadata": {
    "colab": {
      "private_outputs": true,
      "provenance": [],
      "authorship_tag": "ABX9TyPG7k7Vo/zI5IWh8N3GUcBB",
      "include_colab_link": true
    },
    "kernelspec": {
      "name": "python3",
      "display_name": "Python 3"
    },
    "language_info": {
      "name": "python"
    }
  },
  "cells": [
    {
      "cell_type": "markdown",
      "metadata": {
        "id": "view-in-github",
        "colab_type": "text"
      },
      "source": [
        "<a href=\"https://colab.research.google.com/github/WellcomePeujio/Optimizacion-de-Presupuesto-Empresarial/blob/main/Optimizaci%C3%B3n_de_Presupuesto_Empresarial.ipynb\" target=\"_parent\"><img src=\"https://colab.research.google.com/assets/colab-badge.svg\" alt=\"Open In Colab\"/></a>"
      ]
    },
    {
      "cell_type": "markdown",
      "source": [
        "# Optimización de Presupuesto Empresarial\n",
        "\n",
        "**Problema**: Una empresa tiene un presupuesto de $1,000,000 para invertir en tres áreas:\n",
        "\n",
        "| Área         | Rendimiento Esperado (%) | Costo ($) |\n",
        "|--------------|---------------------------|-----------|\n",
        "| Marketing    | 15                        | 400,000   |\n",
        "| Tecnología   | 20                        | 500,000   |\n",
        "| Capacitación | 10                        | 200,000   |\n",
        "\n",
        "---\n",
        "\n",
        "**Preguntas**:\n",
        "\n",
        "1. ¿Cómo debe asignarse el presupuesto para maximizar el rendimiento total?\n",
        "\n",
        "2. ¿Qué sucede si el presupuesto aumenta en un 10%?\n"
      ],
      "metadata": {
        "id": "9-PkWCPGpTnB"
      }
    },
    {
      "cell_type": "markdown",
      "source": [
        "# Resolución Matemática: Optimización de Presupuesto Empresarial\n",
        "\n",
        "## Paso 1: Definición del Problema\n",
        "\n",
        "Queremos maximizar el rendimiento total de las inversiones, dado un presupuesto limitado. La función objetivo es:\n",
        "\n",
        "$$\n",
        "R = 0.15x_1 + 0.20x_2 + 0.10x_3\n",
        "$$\n",
        "\n",
        "Sujeto a las siguientes restricciones:\n",
        "- El presupuesto total no debe exceder $1,000,000:\n",
        "  $$\n",
        "  x_1 + x_2 + x_3 \\leq 1,000,000\n",
        "  $$\n",
        "\n",
        "- Cada área tiene un costo mínimo para obtener rendimiento:\n",
        "  $$\n",
        "  0 \\leq x_1 \\leq 400,000\n",
        "  $$\n",
        "  $$\n",
        "  0 \\leq x_2 \\leq 500,000\n",
        "  $$\n",
        "  $$\n",
        "  0 \\leq x_3 \\leq 200,000\n",
        "  $$\n",
        "\n",
        "Donde:\n",
        "- $x_1$: Presupuesto asignado a Marketing.\n",
        "- $x_2$: Presupuesto asignado a Tecnología.\n",
        "- $x_3$: Presupuesto asignado a Capacitación.\n",
        "\n",
        "---\n",
        "\n",
        "## Paso 2: Método de Resolución\n",
        "\n",
        "Este problema es un caso de programación lineal, donde:\n",
        "- La función objetivo $R$ se maximiza.\n",
        "- Las restricciones definen un espacio factible.\n",
        "\n",
        "Utilizamos el método del simplex para resolver el sistema de ecuaciones y determinar los valores óptimos de $x_1$, $x_2$, y $x_3$ que maximizan $R$.\n",
        "\n",
        "---\n",
        "\n",
        "## Paso 3: Caso de Presupuesto Incrementado\n",
        "\n",
        "Si el presupuesto aumenta en un 10%, se actualiza la restricción presupuestaria a:\n",
        "\n",
        "$$\n",
        "x_1 + x_2 + x_3 \\leq 1,100,000\n",
        "$$\n",
        "\n",
        "Recalculamos el problema bajo esta nueva restricción para determinar cómo afecta a la asignación óptima del presupuesto y al rendimiento total.\n"
      ],
      "metadata": {
        "id": "K1WJs16lpYk9"
      }
    },
    {
      "cell_type": "code",
      "source": [
        "import numpy as np\n",
        "import matplotlib.pyplot as plt\n",
        "from scipy.optimize import linprog\n",
        "\n",
        "# Coeficientes de la función objetivo (rendimientos esperados)\n",
        "c = [-0.15, -0.20, -0.10]  # Negativos porque linprog minimiza\n",
        "\n",
        "# Restricciones (coeficientes de las desigualdades)\n",
        "A = [\n",
        "    [1, 1, 1],  # Restricción de presupuesto total\n",
        "    [1, 0, 0],  # Restricción de marketing\n",
        "    [0, 1, 0],  # Restricción de tecnología\n",
        "    [0, 0, 1]   # Restricción de capacitación\n",
        "]\n",
        "\n",
        "# Lados derechos de las restricciones\n",
        "b = [1_000_000, 400_000, 500_000, 200_000]\n",
        "\n",
        "# Límites para las variables\n",
        "bounds = [(0, None), (0, None), (0, None)]\n",
        "\n",
        "# Resolviendo el problema de programación lineal\n",
        "resultado = linprog(c, A_ub=A, b_ub=b, bounds=bounds, method='highs')\n",
        "\n",
        "# Extraer las variables óptimas\n",
        "x1, x2, x3 = resultado.x\n",
        "\n",
        "# Cálculo del rendimiento total\n",
        "rendimiento_total = -resultado.fun\n",
        "\n",
        "# Datos para la gráfica\n",
        "areas = ['Marketing', 'Tecnología', 'Capacitación']\n",
        "presupuestos = [x1, x2, x3]\n",
        "\n",
        "# Gráfica ilustrativa\n",
        "plt.figure(figsize=(10, 6))\n",
        "plt.bar(areas, presupuestos, color=['blue', 'green', 'orange'], alpha=0.7)\n",
        "plt.title('Asignación Óptima de Presupuesto por Área', fontsize=16)\n",
        "plt.ylabel('Presupuesto Asignado ($)', fontsize=14)\n",
        "plt.xticks(fontsize=12)\n",
        "plt.yticks(fontsize=12)\n",
        "for i, val in enumerate(presupuestos):\n",
        "    plt.text(i, val + 20_000, f\"${val:,.0f}\", ha='center', fontsize=12)\n",
        "plt.grid(axis='y', alpha=0.3)\n",
        "plt.tight_layout()\n",
        "plt.show()\n",
        "\n",
        "# Mostrar resultados\n",
        "x1, x2, x3, rendimiento_total"
      ],
      "metadata": {
        "id": "-v8PwA3Rqbw_"
      },
      "execution_count": null,
      "outputs": []
    }
  ]
}